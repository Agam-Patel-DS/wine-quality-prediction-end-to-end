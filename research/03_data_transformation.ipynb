{
 "cells": [
  {
   "cell_type": "code",
   "execution_count": 1,
   "metadata": {},
   "outputs": [],
   "source": [
    "import os"
   ]
  },
  {
   "cell_type": "code",
   "execution_count": 2,
   "metadata": {},
   "outputs": [],
   "source": [
    "os.chdir(\"../\")"
   ]
  },
  {
   "cell_type": "code",
   "execution_count": 3,
   "metadata": {},
   "outputs": [
    {
     "data": {
      "text/plain": [
       "'/workspaces/wine-quality-prediction-end-to-end'"
      ]
     },
     "execution_count": 3,
     "metadata": {},
     "output_type": "execute_result"
    }
   ],
   "source": [
    "%pwd"
   ]
  },
  {
   "cell_type": "code",
   "execution_count": 4,
   "metadata": {},
   "outputs": [],
   "source": [
    "from dataclasses import dataclass\n",
    "from pathlib import Path\n",
    "\n",
    "@dataclass\n",
    "class DataTransformationConfig:\n",
    "    root_dir:Path\n",
    "    data_path: Path"
   ]
  },
  {
   "cell_type": "code",
   "execution_count": 5,
   "metadata": {},
   "outputs": [],
   "source": [
    "from src.winequalityprediction.constants import *\n",
    "from src.winequalityprediction.utils.common import read_yaml, create_directories\n",
    "\n",
    "from src.winequalityprediction.constants import *\n",
    "from src.winequalityprediction.utils.common import read_yaml, create_directories\n",
    "\n",
    "class ConfigurationManager:\n",
    "    def __init__(self, \n",
    "                 config_file_path=CONFIG_FILE_PATH,\n",
    "                 params_file_path=PARAMS_FILE_PATH,\n",
    "                 schema_file_path=SCHEMA_FILE_PATH):\n",
    "        self.config=read_yaml(config_file_path)\n",
    "        self.params=read_yaml(params_file_path)\n",
    "        self.schema=read_yaml(schema_file_path)\n",
    "\n",
    "        create_directories([self.config.artifacts_root])\n",
    "\n",
    "    \n",
    "    def get_data_transformation_config(self)->DataTransformationConfig:\n",
    "        config=self.config.data_transformation\n",
    "        create_directories([config.root_dir])\n",
    "\n",
    "        data_transformation_config=DataTransformationConfig(\n",
    "            root_dir=config.root_dir,\n",
    "            data_path=config.data_path\n",
    "        )\n",
    "\n",
    "        return data_transformation_config\n"
   ]
  },
  {
   "cell_type": "code",
   "execution_count": 6,
   "metadata": {},
   "outputs": [],
   "source": [
    "import os\n",
    "from src.winequalityprediction import logger\n",
    "from sklearn.model_selection import train_test_split\n",
    "import pandas as pd\n",
    "\n",
    "\n",
    "class DataTransformation:\n",
    "    def __init__(self, config: DataTransformationConfig):\n",
    "        self.config=config\n",
    "\n",
    "    # To perform the train test split\n",
    "    def train_test_split(self):\n",
    "        data=pd.read_csv(self.config.data_path)\n",
    "        train, test=train_test_split(data)\n",
    "        train.to_csv(os.path.join(self.config.root_dir, \"train.csv\"), index=False)\n",
    "        test.to_csv(os.path.join(self.config.root_dir, \"test.csv\"), index=False)\n",
    "\n",
    "        logger.info(\"Splited data into training and test sets\")\n",
    "        logger.info(f\"Train Shape: {train.shape}\")\n",
    "        logger.info(f\"Test Shape: {test.shape}\")\n",
    "\n",
    "        print(train.shape)\n",
    "        print(test.shape)\n"
   ]
  },
  {
   "cell_type": "code",
   "execution_count": 7,
   "metadata": {},
   "outputs": [
    {
     "name": "stdout",
     "output_type": "stream",
     "text": [
      "[2025-02-02 13:14:44,350: INFO: common: yaml file: config/config.yaml loaded successfully]\n",
      "[2025-02-02 13:14:44,357: INFO: common: yaml file: params.yaml loaded successfully]\n",
      "[2025-02-02 13:14:44,360: INFO: common: yaml file: schema.yaml loaded successfully]\n",
      "[2025-02-02 13:14:44,360: INFO: common: Created directory at: artifacts]\n",
      "[2025-02-02 13:14:44,361: INFO: common: Created directory at: artifacts/data_transformation]\n",
      "[2025-02-02 13:14:44,384: INFO: 3515336101: Splited data into training and test sets]\n",
      "[2025-02-02 13:14:44,385: INFO: 3515336101: Train Shape: (1199, 12)]\n",
      "[2025-02-02 13:14:44,385: INFO: 3515336101: Test Shape: (400, 12)]\n",
      "(1199, 12)\n",
      "(400, 12)\n"
     ]
    }
   ],
   "source": [
    "config=ConfigurationManager()\n",
    "data_transformation_config=config.get_data_transformation_config()\n",
    "data_transformation=DataTransformation(config=data_transformation_config)\n",
    "data_transformation.train_test_split()"
   ]
  },
  {
   "cell_type": "code",
   "execution_count": 18,
   "metadata": {},
   "outputs": [],
   "source": [
    "with open(Path(\"artifacts/data_validation/status.txt\"), \"r\") as f:\n",
    "                status=f.read().split(\" \")"
   ]
  },
  {
   "cell_type": "code",
   "execution_count": 20,
   "metadata": {},
   "outputs": [
    {
     "data": {
      "text/plain": [
       "'True'"
      ]
     },
     "execution_count": 20,
     "metadata": {},
     "output_type": "execute_result"
    }
   ],
   "source": [
    "status[-1]"
   ]
  },
  {
   "cell_type": "code",
   "execution_count": 24,
   "metadata": {},
   "outputs": [
    {
     "name": "stdout",
     "output_type": "stream",
     "text": [
      "[2025-02-02 13:36:44,199: INFO: common: yaml file: config/config.yaml loaded successfully]\n",
      "[2025-02-02 13:36:44,200: INFO: common: yaml file: params.yaml loaded successfully]\n",
      "[2025-02-02 13:36:44,202: INFO: common: yaml file: schema.yaml loaded successfully]\n",
      "[2025-02-02 13:36:44,203: INFO: common: Created directory at: artifacts]\n",
      "[2025-02-02 13:36:44,204: INFO: common: Created directory at: artifacts/data_transformation]\n",
      "[2025-02-02 13:36:44,230: INFO: 3515336101: Splited data into training and test sets]\n",
      "[2025-02-02 13:36:44,231: INFO: 3515336101: Train Shape: (1199, 12)]\n",
      "[2025-02-02 13:36:44,232: INFO: 3515336101: Test Shape: (400, 12)]\n",
      "(1199, 12)\n",
      "(400, 12)\n"
     ]
    }
   ],
   "source": [
    "with open(Path(\"artifacts/data_validation/status.txt\"), \"r\") as f:\n",
    "    status=f.read().split(\" \")\n",
    "if status[-1] == \"True\":\n",
    "    config=ConfigurationManager()\n",
    "    data_transformation_config=config.get_data_transformation_config()\n",
    "    data_transformation=DataTransformation(config=data_transformation_config)\n",
    "    data_transformation.train_test_split()"
   ]
  },
  {
   "cell_type": "code",
   "execution_count": 23,
   "metadata": {},
   "outputs": [
    {
     "data": {
      "text/plain": [
       "'True'"
      ]
     },
     "execution_count": 23,
     "metadata": {},
     "output_type": "execute_result"
    }
   ],
   "source": [
    "with open(Path(\"artifacts/data_validation/status.txt\"), \"r\") as f:\n",
    "    status=f.read().split(\" \")\n",
    "\n",
    "status[-1]"
   ]
  },
  {
   "cell_type": "code",
   "execution_count": null,
   "metadata": {},
   "outputs": [],
   "source": [
    "status"
   ]
  }
 ],
 "metadata": {
  "kernelspec": {
   "display_name": "venv",
   "language": "python",
   "name": "python3"
  },
  "language_info": {
   "codemirror_mode": {
    "name": "ipython",
    "version": 3
   },
   "file_extension": ".py",
   "mimetype": "text/x-python",
   "name": "python",
   "nbconvert_exporter": "python",
   "pygments_lexer": "ipython3",
   "version": "3.10.0"
  }
 },
 "nbformat": 4,
 "nbformat_minor": 2
}
