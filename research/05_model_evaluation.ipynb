{
 "cells": [
  {
   "cell_type": "code",
   "execution_count": 1,
   "metadata": {},
   "outputs": [],
   "source": [
    "import os\n",
    "os.environ[\"MLFLOW_TRACKING_URI\"]=\"https://dagshub.com/Agam-Patel-DS/wine-quality-prediction-end-to-end.mlflow\"\n",
    "os.environ[\"MLFLOW_TRACKING_USERNAME\"]=\"Agam-Patel-DS\"\n",
    "os.environ[\"MLFLOW_TRACKING_PASSWORD\"]=\"3d17a240490c70ca0d48f408ad47e0542b365a0a\""
   ]
  },
  {
   "cell_type": "code",
   "execution_count": 2,
   "metadata": {},
   "outputs": [],
   "source": [
    "import os\n",
    "os.chdir(\"../\")"
   ]
  },
  {
   "cell_type": "code",
   "execution_count": 3,
   "metadata": {},
   "outputs": [
    {
     "data": {
      "text/plain": [
       "'/workspaces/wine-quality-prediction-end-to-end'"
      ]
     },
     "execution_count": 3,
     "metadata": {},
     "output_type": "execute_result"
    }
   ],
   "source": [
    "%pwd"
   ]
  },
  {
   "cell_type": "code",
   "execution_count": 4,
   "metadata": {},
   "outputs": [],
   "source": [
    "from dataclasses import dataclass\n",
    "from pathlib import Path\n",
    "\n",
    "\n",
    "@dataclass\n",
    "class ModelEvaluationConfig:\n",
    "    root_dir: Path\n",
    "    test_data_path: Path\n",
    "    model_path: Path\n",
    "    all_params: Path\n",
    "    metric_file_name: Path\n",
    "    target_column: str\n",
    "    mlflow_uri: str"
   ]
  },
  {
   "cell_type": "code",
   "execution_count": 8,
   "metadata": {},
   "outputs": [],
   "source": [
    "from src.winequalityprediction.constants import *\n",
    "from src.winequalityprediction.utils.common import read_yaml, create_directories, save_json\n",
    "\n",
    "class ConfigurationManager:\n",
    "    def __init__(self, \n",
    "                 config_file_path=CONFIG_FILE_PATH,\n",
    "                 params_file_path=PARAMS_FILE_PATH,\n",
    "                 schema_file_path=SCHEMA_FILE_PATH):\n",
    "        self.config=read_yaml(config_file_path)\n",
    "        self.params=read_yaml(params_file_path)\n",
    "        self.schema=read_yaml(schema_file_path)\n",
    "\n",
    "        create_directories([self.config.artifacts_root])\n",
    "\n",
    "    def get_model_evaluation_config(self) -> ModelEvaluationConfig:\n",
    "        config=self.config.model_evaluation\n",
    "        params=self.params.ElasticNet\n",
    "        schema=self.schema.TARGET_COLUMN\n",
    "\n",
    "        create_directories([config.root_dir])\n",
    "\n",
    "        model_evaluation_config=ModelEvaluationConfig(\n",
    "            root_dir=config.root_dir,\n",
    "            test_data_path=config.test_data_path,\n",
    "            model_path=config.model_path,\n",
    "            all_params=params,\n",
    "            metric_file_name=config.metric_file_name,\n",
    "            target_column=schema.name,\n",
    "            mlflow_uri=\"https://dagshub.com/Agam-Patel-DS/wine-quality-prediction-end-to-end.mlflow\"\n",
    "        )\n",
    "        return model_evaluation_config"
   ]
  },
  {
   "cell_type": "code",
   "execution_count": 6,
   "metadata": {},
   "outputs": [],
   "source": [
    "import os\n",
    "import pandas as pd\n",
    "from sklearn.metrics import mean_squared_error, mean_absolute_error, r2_score\n",
    "from urllib.parse import urlparse\n",
    "import mlflow\n",
    "import mlflow.sklearn\n",
    "import numpy as np\n",
    "import joblib\n",
    "\n",
    "class ModelEvaluation:\n",
    "    def __init__(self, config:ModelEvaluationConfig):\n",
    "        self.config=config\n",
    "\n",
    "    def eval_metric(self,actual,pred):\n",
    "        rmse=np.sqrt(mean_squared_error(actual,pred))\n",
    "        mae=mean_absolute_error(actual,pred)\n",
    "        r2=r2_score(actual,pred)\n",
    "        return rmse,mae,r2\n",
    "    \n",
    "    def log_into_mlflow(self):\n",
    "        test_data=pd.read_csv(self.config.test_data_path)\n",
    "        model=joblib.load(self.config.model_path)\n",
    "\n",
    "        test_x=test_data.drop([self.config.target_column],axis=1)\n",
    "        test_y=test_data[[self.config.target_column]]\n",
    "\n",
    "        mlflow.set_registry_uri(self.config.mlflow_uri)\n",
    "        tracking_url_type_store=urlparse(mlflow.get_tracking_uri()).scheme\n",
    "\n",
    "        with mlflow.start_run():\n",
    "            predicted_qualities=model.predict(test_x)\n",
    "            (rmse,mae,r2)=self.eval_metric(test_y,predicted_qualities)\n",
    "\n",
    "            scores={\"rmse\":rmse,\"mae\":mae,\"r2\":r2}\n",
    "            save_json(path=Path(self.config.metric_file_name),data=scores)\n",
    "\n",
    "            mlflow.log_params(self.config.all_params)\n",
    "\n",
    "            mlflow.log_metric(\"rmse\",rmse)\n",
    "            mlflow.log_metric(\"mae\",mae)\n",
    "            mlflow.log_metric(\"r2\",r2)\n",
    "\n",
    "            if tracking_url_type_store!=\"file\":\n",
    "                mlflow.sklearn.log_model(model,\"model\",registered_model_name=\"ElasticNetModel\")\n",
    "            else:\n",
    "                mlflow.sklearn.log_model(model, \"model\")"
   ]
  },
  {
   "cell_type": "code",
   "execution_count": 9,
   "metadata": {},
   "outputs": [
    {
     "name": "stdout",
     "output_type": "stream",
     "text": [
      "[2025-02-03 08:01:41,624: INFO: common: yaml file: config/config.yaml loaded successfully]\n",
      "[2025-02-03 08:01:41,625: INFO: common: yaml file: params.yaml loaded successfully]\n",
      "[2025-02-03 08:01:41,628: INFO: common: yaml file: schema.yaml loaded successfully]\n",
      "[2025-02-03 08:01:41,628: INFO: common: Created directory at: artifacts]\n",
      "[2025-02-03 08:01:41,629: INFO: common: Created directory at: artifacts/model_evaluation]\n",
      "[2025-02-03 08:01:42,321: INFO: common: json file saved at: artifacts/model_evaluation/metrics.json]\n"
     ]
    },
    {
     "name": "stderr",
     "output_type": "stream",
     "text": [
      "\u001b[31m2025/02/03 08:01:46 WARNING mlflow.models.model: Model logged without a signature and input example. Please set `input_example` parameter when logging the model to auto infer the model signature.\u001b[0m\n",
      "Successfully registered model 'ElasticNetModel'.\n",
      "2025/02/03 08:01:51 INFO mlflow.store.model_registry.abstract_store: Waiting up to 300 seconds for model version to finish creation. Model name: ElasticNetModel, version 1\n",
      "Created version '1' of model 'ElasticNetModel'.\n"
     ]
    },
    {
     "name": "stdout",
     "output_type": "stream",
     "text": [
      "🏃 View run flawless-toad-291 at: https://dagshub.com/Agam-Patel-DS/wine-quality-prediction-end-to-end.mlflow/#/experiments/0/runs/36949d52672e424ea5dc92195d95e8e9\n",
      "🧪 View experiment at: https://dagshub.com/Agam-Patel-DS/wine-quality-prediction-end-to-end.mlflow/#/experiments/0\n"
     ]
    }
   ],
   "source": [
    "config=ConfigurationManager()\n",
    "model_evaluation_config=config.get_model_evaluation_config()\n",
    "model_evaluation=ModelEvaluation(config=model_evaluation_config)\n",
    "model_evaluation.log_into_mlflow()"
   ]
  },
  {
   "cell_type": "code",
   "execution_count": null,
   "metadata": {},
   "outputs": [],
   "source": []
  }
 ],
 "metadata": {
  "kernelspec": {
   "display_name": "venv",
   "language": "python",
   "name": "python3"
  },
  "language_info": {
   "codemirror_mode": {
    "name": "ipython",
    "version": 3
   },
   "file_extension": ".py",
   "mimetype": "text/x-python",
   "name": "python",
   "nbconvert_exporter": "python",
   "pygments_lexer": "ipython3",
   "version": "3.10.0"
  }
 },
 "nbformat": 4,
 "nbformat_minor": 2
}
